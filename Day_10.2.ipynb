{
 "cells": [
  {
   "cell_type": "code",
   "execution_count": 1,
   "metadata": {},
   "outputs": [],
   "source": [
    "import numpy as np \n",
    "from sklearn.decomposition import PCA \n",
    "import matplotlib.pyplot as plt \n",
    "#create a sample dataset\n",
    "np.random.seed(0)\n",
    "num_samples=100\n",
    "num_features=2\n",
    "x=np.random.randn(num_samples,num_features)"
   ]
  },
  {
   "cell_type": "code",
   "execution_count": null,
   "metadata": {},
   "outputs": [],
   "source": [
    "# initializer PCA with the desitred number of component\n",
    "n_components=1\n",
    "PCA=PCA(n_components=n_components)\n",
    "\n",
    "X_pca=pca.fit_transform()\n",
    "X_original=pca.inverse_transform(X_pca)\n",
    "plt.subplot(1,2,1)\n",
    "plt.scatter(x[:])\n"
   ]
  }
 ],
 "metadata": {
  "kernelspec": {
   "display_name": "Python 3",
   "language": "python",
   "name": "python3"
  },
  "language_info": {
   "codemirror_mode": {
    "name": "ipython",
    "version": 3
   },
   "file_extension": ".py",
   "mimetype": "text/x-python",
   "name": "python",
   "nbconvert_exporter": "python",
   "pygments_lexer": "ipython3",
   "version": "3.11.4"
  },
  "orig_nbformat": 4
 },
 "nbformat": 4,
 "nbformat_minor": 2
}
